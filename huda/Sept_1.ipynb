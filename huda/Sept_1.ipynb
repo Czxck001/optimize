{
 "cells": [
  {
   "cell_type": "code",
   "execution_count": 96,
   "metadata": {
    "collapsed": true
   },
   "outputs": [],
   "source": [
    "%matplotlib inline\n",
    "import numpy as np\n",
    "from mpl_toolkits.mplot3d import axes3d\n",
    "from numba import jit\n",
    "import scipy\n",
    "import math \n",
    "import matplotlib.pyplot as plt \n",
    "import numpy as np\n",
    "from numpy import exp, log, sqrt\n",
    "from scipy.special import expit\n",
    "from scipy.optimize import minimize\n",
    "from scipy.optimize import fsolve, root, brenth\n",
    "from scipy import integrate \n",
    "from mpl_toolkits.mplot3d import Axes3D\n",
    "from matplotlib import cm\n",
    "from scipy.optimize import minimize\n",
    "from scipy.optimize import newton_krylov, anderson,broyden1\n",
    "import numpy.polynomial.polynomial as poly\n",
    "# from scipy.integrate import quad\n",
    "# --- global constant\n",
    "Num_of_neuron = 12\n",
    "#------\n",
    "from mpl_toolkits.mplot3d import Axes3D\n",
    "import matplotlib.pyplot as plt\n",
    "import numpy as np"
   ]
  },
  {
   "cell_type": "code",
   "execution_count": 97,
   "metadata": {
    "collapsed": true
   },
   "outputs": [],
   "source": [
    "def p_x(x):\n",
    "    '''\n",
    "    currently x is a float number. Can be changed later.\n",
    "    '''\n",
    "    mean_value = 0\n",
    "    standard_dev = 1\n",
    "    prob = np.exp(-(x - mean_value)**2 / (2 * standard_dev**2)) / np.sqrt(2 * np.pi * standard_dev**2)\n",
    "    return prob"
   ]
  },
  {
   "cell_type": "code",
   "execution_count": 98,
   "metadata": {
    "collapsed": true
   },
   "outputs": [],
   "source": [
    "def J_x(x, mu, nu):\n",
    "    '''\n",
    "    x is scalar, mu and nu are NumPy arraries\n",
    "    '''\n",
    "    temp_Jx = 0.00000000001\n",
    "    for i in range(0, Num_of_neuron):\n",
    "        if (x - mu[i])/nu[i] <50: \n",
    "            temp_Jx = temp_Jx + exp( (x - mu[i])/nu[i] ) / ( nu[i]*(1+exp( (x - mu[i])/nu[i] )) )**2\n",
    "    return temp_Jx"
   ]
  },
  {
   "cell_type": "code",
   "execution_count": 99,
   "metadata": {
    "collapsed": true
   },
   "outputs": [],
   "source": [
    "def F_fun(mu, nu):\n",
    "    def integrate_fun(x, mu, nu):\n",
    "#         print('J(x):', J_x(x, mu, nu))\n",
    "#         print('p(x):', p_x(x) * log(J_x(x, mu, nu)+0.0000001))\n",
    "        return p_x(x) * log(J_x(x, mu, nu)+0.0000001)\n",
    "    ans, err = integrate.quad(integrate_fun, -7, 7, args = (mu, nu))\n",
    "    return -ans"
   ]
  },
  {
   "cell_type": "code",
   "execution_count": 100,
   "metadata": {
    "collapsed": true
   },
   "outputs": [],
   "source": [
    "def Objective_fun(lambda_list, alpha):\n",
    "    mu_list = exp(lambda_list)\n",
    "    nu = alpha * abs(mu_list) + np.ones(Num_of_neuron) * 0.000001\n",
    "    F_value = F_fun(mu_list, nu)\n",
    "    return F_value"
   ]
  },
  {
   "cell_type": "code",
   "execution_count": 101,
   "metadata": {
    "collapsed": true
   },
   "outputs": [],
   "source": [
    "def firing_rate(mu, alpha):\n",
    "    def inte_fun(x, mu, alpha):\n",
    "#         print((x - mu)/(alpha*mu + 0.00001))\n",
    "        if (x - mu)/(alpha*mu + 0.00001) < -50:\n",
    "            return 0\n",
    "        else:\n",
    "#             print(-(x-mu)/(alpha*mu+0.00001))\n",
    "#             print('fenmu:',(alpha*mu+0.00001))\n",
    "            return p_x(x)/(1 + exp(-(x-mu)/(alpha*mu+0.00001)))\n",
    "    firing, err = integrate.quad(inte_fun, -7, 7, args = (mu, alpha))\n",
    "    return firing"
   ]
  },
  {
   "cell_type": "code",
   "execution_count": 104,
   "metadata": {
    "collapsed": true
   },
   "outputs": [],
   "source": [
    "def total_firing_rate(lambda_list, alpha):\n",
    "#     print(lambda_list)\n",
    "    mu_list = exp(lambda_list)\n",
    "    total_rate = 0\n",
    "    for i in range(0, Num_of_neuron):\n",
    "        total_rate += firing_rate(mu_list[i], alpha)\n",
    "    return total_rate"
   ]
  },
  {
   "cell_type": "code",
   "execution_count": 122,
   "metadata": {
    "collapsed": false
   },
   "outputs": [
    {
     "name": "stdout",
     "output_type": "stream",
     "text": [
      "Optimization terminated successfully.    (Exit mode 0)\n",
      "            Current function value: 2.88077389289\n",
      "            Iterations: 39\n",
      "            Function evaluations: 563\n",
      "            Gradient evaluations: 39\n"
     ]
    }
   ],
   "source": [
    "L1 = 0.01\n",
    "L2 = 0.01\n",
    "alpha = 0.1\n",
    "my_cost = lambda lambda_list: Objective_fun(lambda_list, alpha) + L1 *(total_firing_rate(lambda_list, alpha)-0) \\\n",
    "+ L2 * (sum(1.0/lambda_list)-0)\n",
    "x0 = np.random.random(Num_of_neuron)\n",
    "res = minimize(my_cost, x0, method = 'SLSQP', options={'disp': True})\n"
   ]
  },
  {
   "cell_type": "code",
   "execution_count": 123,
   "metadata": {
    "collapsed": false
   },
   "outputs": [
    {
     "data": {
      "text/plain": [
       "     fun: 2.8807738928884845\n",
       "     jac: array([ -2.68936157e-04,  -1.71780586e-04,   1.12175941e-04,\n",
       "        -1.25408173e-04,  -8.64267349e-06,  -2.79933214e-04,\n",
       "         1.31934881e-04,  -2.30342150e-04,  -1.38878822e-04,\n",
       "        -5.76674938e-04,  -2.53975391e-04,   1.02430582e-04,\n",
       "         0.00000000e+00])\n",
       " message: 'Optimization terminated successfully.'\n",
       "    nfev: 563\n",
       "     nit: 39\n",
       "    njev: 39\n",
       "  status: 0\n",
       " success: True\n",
       "       x: array([ 1.74452652, -1.09493708,  0.18182086,  1.74745712,  1.74983478,\n",
       "        0.18135627,  1.75268836,  1.74531372,  0.61001127,  0.18101093,\n",
       "        0.90707043,  0.54271902])"
      ]
     },
     "execution_count": 123,
     "metadata": {},
     "output_type": "execute_result"
    }
   ],
   "source": [
    "res"
   ]
  },
  {
   "cell_type": "code",
   "execution_count": 124,
   "metadata": {
    "collapsed": false
   },
   "outputs": [
    {
     "data": {
      "text/plain": [
       "0.834965474014419"
      ]
     },
     "execution_count": 124,
     "metadata": {},
     "output_type": "execute_result"
    }
   ],
   "source": [
    "total_firing_rate(res.x, alpha)"
   ]
  },
  {
   "cell_type": "code",
   "execution_count": 125,
   "metadata": {
    "collapsed": false
   },
   "outputs": [
    {
     "data": {
      "text/plain": [
       "7.8901698567702985"
      ]
     },
     "execution_count": 125,
     "metadata": {},
     "output_type": "execute_result"
    }
   ],
   "source": [
    "sum(exp(-res.x))"
   ]
  },
  {
   "cell_type": "code",
   "execution_count": 126,
   "metadata": {
    "collapsed": false
   },
   "outputs": [
    {
     "data": {
      "text/plain": [
       "array([ 5.72319101,  0.33456066,  1.19939932,  5.73998803,  5.75365197,\n",
       "        1.19884222,  5.77009391,  5.72769809,  1.84045214,  1.19842828,\n",
       "        2.47705518,  1.72067906])"
      ]
     },
     "execution_count": 126,
     "metadata": {},
     "output_type": "execute_result"
    }
   ],
   "source": [
    "exp(res.x)"
   ]
  },
  {
   "cell_type": "code",
   "execution_count": 127,
   "metadata": {
    "collapsed": false
   },
   "outputs": [
    {
     "data": {
      "text/plain": [
       "[<matplotlib.lines.Line2D at 0x112b79150>]"
      ]
     },
     "execution_count": 127,
     "metadata": {},
     "output_type": "execute_result"
    },
    {
     "data": {
      "image/png": "[encoded data removed]",
      "text/plain": [
       "<matplotlib.figure.Figure at 0x1128050d0>"
      ]
     },
     "metadata": {},
     "output_type": "display_data"
    }
   ],
   "source": [
    "plt.plot(sorted(exp(res.x)),'o')"
   ]
  },
  {
   "cell_type": "code",
   "execution_count": 149,
   "metadata": {
    "collapsed": true
   },
   "outputs": [],
   "source": [
    "def test_zero(x,alpha, C1, C2):\n",
    "    results = np.zeros(2)\n",
    "    results[0] = firing_rate(exp(x[0]), alpha) + firing_rate(exp(x[1]), alpha) - C1\n",
    "    results[1] = sum(exp(-x)) - C2\n",
    "    return results"
   ]
  },
  {
   "cell_type": "code",
   "execution_count": 227,
   "metadata": {
    "collapsed": false
   },
   "outputs": [
    {
     "name": "stderr",
     "output_type": "stream",
     "text": [
      "/Users/hongyehu/anaconda/lib/python2.7/site-packages/ipykernel/__main__.py:3: RuntimeWarning: overflow encountered in exp\n",
      "  app.launch_new_instance()\n",
      "/Users/hongyehu/anaconda/lib/python2.7/site-packages/ipykernel/__main__.py:4: RuntimeWarning: invalid value encountered in double_scalars\n",
      "/Users/hongyehu/anaconda/lib/python2.7/site-packages/ipykernel/__main__.py:7: RuntimeWarning: invalid value encountered in double_scalars\n"
     ]
    }
   ],
   "source": [
    "res = root(test_zero, np.array([-2,0]), args = (0.8,20,1), method = 'excitingmixing')"
   ]
  },
  {
   "cell_type": "code",
   "execution_count": 228,
   "metadata": {
    "collapsed": false
   },
   "outputs": [
    {
     "data": {
      "text/plain": [
       "     fun: array([ -1.92772999e+01,   8.38697551e+04])\n",
       " message: 'The maximum number of iterations allowed has been reached.'\n",
       "     nit: 300\n",
       "  status: 2\n",
       " success: False\n",
       "       x: array([ -11.33703226,  407.4205634 ])"
      ]
     },
     "execution_count": 228,
     "metadata": {},
     "output_type": "execute_result"
    }
   ],
   "source": [
    "res"
   ]
  },
  {
   "cell_type": "code",
   "execution_count": 163,
   "metadata": {
    "collapsed": false
   },
   "outputs": [
    {
     "data": {
      "text/plain": [
       "array([ 0.66805041,  0.09934151])"
      ]
     },
     "execution_count": 163,
     "metadata": {},
     "output_type": "execute_result"
    }
   ],
   "source": [
    "exp(res.x)"
   ]
  },
  {
   "cell_type": "code",
   "execution_count": 171,
   "metadata": {
    "collapsed": false
   },
   "outputs": [
    {
     "name": "stdout",
     "output_type": "stream",
     "text": [
      "0.747679200526\n"
     ]
    }
   ],
   "source": [
    "a = np.array([0.3, 0.5])\n",
    "print(firing_rate(0.3, 1)+firing_rate(0.5, 1))"
   ]
  },
  {
   "cell_type": "code",
   "execution_count": 214,
   "metadata": {
    "collapsed": false
   },
   "outputs": [
    {
     "data": {
      "text/plain": [
       "-1.2039728043259361"
      ]
     },
     "execution_count": 214,
     "metadata": {},
     "output_type": "execute_result"
    }
   ],
   "source": [
    "log(0.3)"
   ]
  },
  {
   "cell_type": "code",
   "execution_count": 141,
   "metadata": {
    "collapsed": false
   },
   "outputs": [
    {
     "data": {
      "text/plain": [
       "array([ 0.4000486 ,  0.10000279])"
      ]
     },
     "execution_count": 141,
     "metadata": {},
     "output_type": "execute_result"
    }
   ],
   "source": [
    "exp(res)"
   ]
  },
  {
   "cell_type": "code",
   "execution_count": 406,
   "metadata": {
    "collapsed": false
   },
   "outputs": [],
   "source": [
    "C1 = 0.84\n",
    "C2 = 10\n",
    "alpha = 1.3\n",
    "test_lambda_1 = np.linspace(-10, 10, num = 100)\n",
    "test_lambda_2 = np.linspace(-10, 10, num = 100)\n",
    "[grid_lambda_1, grid_lambda_2] = np.meshgrid(test_lambda_1, test_lambda_2)\n",
    "z = np.zeros((100, 100))\n",
    "z2 = np.zeros((100, 100))\n",
    "for i in range(0, 100):\n",
    "    for j in range(0, 100):\n",
    "#         print(exp(grid_lambda_1[i, j]))\n",
    "        z[i,j] = firing_rate(exp(grid_lambda_1[i, j]), alpha) + firing_rate(exp(grid_lambda_2[i, j]), alpha) - C1\n",
    "        z2[i, j] = 1.0/exp(grid_lambda_1[i, j]) + 1.0/exp(grid_lambda_2[i, j]) - C2"
   ]
  },
  {
   "cell_type": "code",
   "execution_count": 412,
   "metadata": {
    "collapsed": false
   },
   "outputs": [
    {
     "data": {
      "text/plain": [
       "<a list of 3 text.Text objects>"
      ]
     },
     "execution_count": 412,
     "metadata": {},
     "output_type": "execute_result"
    },
    {
     "data": {
      "image/png": "[encoded data removed]",
      "text/plain": [
       "<matplotlib.figure.Figure at 0x119ab5a10>"
      ]
     },
     "metadata": {},
     "output_type": "display_data"
    }
   ],
   "source": [
    "plt.figure()\n",
    "levels = np.arange(0,0.88,0.1)\n",
    "CS = plt.contour(grid_lambda_1, grid_lambda_2, z)\n",
    "CS2 = plt.contour(grid_lambda_1, grid_lambda_2, z2)\n",
    "plt.clabel(CS, inline=1, fontsize=10)\n",
    "plt.clabel(CS2, inline=1, fontsize=10)"
   ]
  },
  {
   "cell_type": "code",
   "execution_count": 409,
   "metadata": {
    "collapsed": false
   },
   "outputs": [
    {
     "data": {
      "text/plain": [
       "array([ 0.16      ,  0.16      ,  0.16      ,  0.16      ,  0.16      ,\n",
       "        0.16      ,  0.16      ,  0.16      ,  0.16      ,  0.16      ,\n",
       "        0.16      ,  0.16      ,  0.16      ,  0.15962325,  0.15953947,\n",
       "        0.15943693,  0.15931143,  0.15943833,  0.15931259,  0.1591587 ,\n",
       "        0.15897037,  0.15873987,  0.15845779,  0.15811257,  0.1576901 ,\n",
       "        0.15717312,  0.15654051,  0.1557665 ,  0.15481959,  0.1536614 ,\n",
       "        0.15224523,  0.1505144 ,  0.14840043,  0.14582112,  0.14267878,\n",
       "        0.138859  ,  0.13423095,  0.12865035,  0.12196748,  0.11404281,\n",
       "        0.10477329,  0.09413019,  0.08220488,  0.0692506 ,  0.05569973,\n",
       "        0.04213488,  0.02920507,  0.01750443,  0.00745639, -0.000751  ,\n",
       "       -0.00715776, -0.01196827, -0.01546773, -0.01795164, -0.01968266,\n",
       "       -0.02087308, -0.02168409, -0.02223303, -0.02260293, -0.02285144,\n",
       "       -0.02301804, -0.02312959, -0.02320421, -0.02325409, -0.02328742,\n",
       "       -0.02330968, -0.02332456, -0.02333449, -0.02334113, -0.02334556,\n",
       "       -0.02334851, -0.02335049, -0.02335181, -0.02335269, -0.02335328,\n",
       "       -0.02335368, -0.02335394, -0.02335411, -0.02335423, -0.02335431,\n",
       "       -0.02335436, -0.0233544 , -0.02335442, -0.02335444, -0.02335445,\n",
       "       -0.02335446, -0.02335446, -0.02335446, -0.02335447, -0.02335447,\n",
       "       -0.02335447, -0.02335447, -0.02335447, -0.02335447, -0.02335447,\n",
       "       -0.02335447, -0.02335447, -0.02335447, -0.02335447, -0.02335447])"
      ]
     },
     "execution_count": 409,
     "metadata": {},
     "output_type": "execute_result"
    }
   ],
   "source": [
    "z[0,:]"
   ]
  },
  {
   "cell_type": "code",
   "execution_count": 369,
   "metadata": {
    "collapsed": false
   },
   "outputs": [],
   "source": [
    "ts_res = brenth(lambda x: firing_rate(x, 1.5)-0.35 , 0.000001, 30)"
   ]
  },
  {
   "cell_type": "code",
   "execution_count": 370,
   "metadata": {
    "collapsed": false
   },
   "outputs": [
    {
     "data": {
      "text/plain": [
       "1.1439003099552814"
      ]
     },
     "execution_count": 370,
     "metadata": {},
     "output_type": "execute_result"
    }
   ],
   "source": [
    "ts_res"
   ]
  },
  {
   "cell_type": "code",
   "execution_count": 318,
   "metadata": {
    "collapsed": false
   },
   "outputs": [
    {
     "data": {
      "text/plain": [
       "0.27999999999999997"
      ]
     },
     "execution_count": 318,
     "metadata": {},
     "output_type": "execute_result"
    }
   ],
   "source": [
    "firing_rate(ts_res, 1)"
   ]
  },
  {
   "cell_type": "code",
   "execution_count": 335,
   "metadata": {
    "collapsed": false
   },
   "outputs": [],
   "source": [
    "alpha = 1.5\n",
    "x = np.linspace(0.0001, 100, num = 1000)\n",
    "y = np.zeros(1000)\n",
    "for i in range(0, 1000):\n",
    "    y[i] = firing_rate(x[i], alpha)"
   ]
  },
  {
   "cell_type": "code",
   "execution_count": 336,
   "metadata": {
    "collapsed": false
   },
   "outputs": [
    {
     "data": {
      "text/plain": [
       "[<matplotlib.lines.Line2D at 0x1145ac610>]"
      ]
     },
     "execution_count": 336,
     "metadata": {},
     "output_type": "execute_result"
    },
    {
     "data": {
      "image/png": "[encoded data removed]",
      "text/plain": [
       "<matplotlib.figure.Figure at 0x1145acdd0>"
      ]
     },
     "metadata": {},
     "output_type": "display_data"
    }
   ],
   "source": [
    "plt.plot(x, y)"
   ]
  },
  {
   "cell_type": "code",
   "execution_count": 339,
   "metadata": {
    "collapsed": false
   },
   "outputs": [
    {
     "data": {
      "text/plain": [
       "4.0709429125180847"
      ]
     },
     "execution_count": 339,
     "metadata": {},
     "output_type": "execute_result"
    }
   ],
   "source": [
    "min(y)*12"
   ]
  },
  {
   "cell_type": "code",
   "execution_count": 340,
   "metadata": {
    "collapsed": false
   },
   "outputs": [
    {
     "data": {
      "text/plain": [
       "6.0000000000000018"
      ]
     },
     "execution_count": 340,
     "metadata": {},
     "output_type": "execute_result"
    }
   ],
   "source": [
    "max(y)*12"
   ]
  },
  {
   "cell_type": "code",
   "execution_count": 399,
   "metadata": {
    "collapsed": false
   },
   "outputs": [
    {
     "data": {
      "text/plain": [
       "0.049787068367863944"
      ]
     },
     "execution_count": 399,
     "metadata": {},
     "output_type": "execute_result"
    }
   ],
   "source": [
    "exp(-3)"
   ]
  },
  {
   "cell_type": "code",
   "execution_count": 128,
   "metadata": {
    "collapsed": false
   },
   "outputs": [
    {
     "name": "stderr",
     "output_type": "stream",
     "text": [
      "/Users/hongyehu/anaconda/lib/python2.7/site-packages/ipykernel/__main__.py:1: RuntimeWarning: overflow encountered in exp\n",
      "  if __name__ == '__main__':\n"
     ]
    },
    {
     "data": {
      "text/plain": [
       "inf"
      ]
     },
     "execution_count": 128,
     "metadata": {},
     "output_type": "execute_result"
    }
   ],
   "source": [
    "exp(3700)"
   ]
  },
  {
   "cell_type": "code",
   "execution_count": null,
   "metadata": {
    "collapsed": true
   },
   "outputs": [],
   "source": []
  }
 ],
 "metadata": {
  "kernelspec": {
   "display_name": "Python 2",
   "language": "python",
   "name": "python2"
  },
  "language_info": {
   "codemirror_mode": {
    "name": "ipython",
    "version": 2
   },
   "file_extension": ".py",
   "mimetype": "text/x-python",
   "name": "python",
   "nbconvert_exporter": "python",
   "pygments_lexer": "ipython2",
   "version": "2.7.11"
  }
 },
 "nbformat": 4,
 "nbformat_minor": 2
}
